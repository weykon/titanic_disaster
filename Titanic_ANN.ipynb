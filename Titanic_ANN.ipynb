{
  "nbformat": 4,
  "nbformat_minor": 0,
  "metadata": {
    "colab": {
      "provenance": [],
      "authorship_tag": "ABX9TyPbc+CKb2jQSSoOupON5SUK",
      "include_colab_link": true
    },
    "kernelspec": {
      "name": "python3",
      "display_name": "Python 3"
    },
    "language_info": {
      "name": "python"
    }
  },
  "cells": [
    {
      "cell_type": "markdown",
      "metadata": {
        "id": "view-in-github",
        "colab_type": "text"
      },
      "source": [
        "<a href=\"https://colab.research.google.com/github/weykon/titanic_disaster/blob/main/Titanic_ANN.ipynb\" target=\"_parent\"><img src=\"https://colab.research.google.com/assets/colab-badge.svg\" alt=\"Open In Colab\"/></a>"
      ]
    },
    {
      "cell_type": "markdown",
      "source": [
        "关于泰坦尼克号的\n",
        "这是神经网络的方案\n",
        "\n",
        "虽然我在梯度增压的模型之后调参后能有什么可以操作的地方，我也不懂。\n",
        "\n"
      ],
      "metadata": {
        "id": "HgPxY5as6NnX"
      }
    },
    {
      "cell_type": "code",
      "execution_count": null,
      "metadata": {
        "id": "VkvYnpEV6HYz"
      },
      "outputs": [],
      "source": []
    }
  ]
}